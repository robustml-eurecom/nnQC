{
 "cells": [
  {
   "cell_type": "markdown",
   "id": "b44c6e80",
   "metadata": {},
   "source": [
    "# Tutorial for training nnQC model on your own data"
   ]
  },
  {
   "cell_type": "markdown",
   "id": "78738a26",
   "metadata": {},
   "source": [
    "It is very easy to train nnQC on your own data! Just prepare the configuration files as shown in the folder \"config\" and run the training script."
   ]
  },
  {
   "cell_type": "markdown",
   "id": "2539b4a2",
   "metadata": {},
   "source": [
    "### Installation time!"
   ]
  },
  {
   "cell_type": "markdown",
   "id": "741ffac9",
   "metadata": {},
   "source": [
    "I highly recommend to use a virtual environment for the installation of nnQC. My preferred choice is `uv` but you can use any other virtual environment manager :)\n",
    "\n",
    "```bash"
   ]
  },
  {
   "cell_type": "code",
   "execution_count": null,
   "id": "07961bca",
   "metadata": {},
   "outputs": [],
   "source": [
    "!git clone github.com/SanBast/nnQC.git\n",
    "!cd nnQC && uv pip install -e ."
   ]
  },
  {
   "cell_type": "markdown",
   "id": "34fc1f26",
   "metadata": {},
   "source": [
    "### Let's check the Helper function first (to see if everything is working properly!)"
   ]
  },
  {
   "cell_type": "code",
   "execution_count": 1,
   "id": "6d6b985b",
   "metadata": {},
   "outputs": [
    {
     "name": "stdout",
     "output_type": "stream",
     "text": [
      "Importing from timm.models.layers is deprecated, please import via timm.layers\n",
      "usage: nnqc-train-ae [-h] [-e ENVIRONMENT_FILE] [-c CONFIG_FILE] [-g GPUS]\n",
      "\n",
      "PyTorch Object Detection Training\n",
      "\n",
      "options:\n",
      "  -h, --help            show this help message and exit\n",
      "  -e ENVIRONMENT_FILE, --environment-file ENVIRONMENT_FILE\n",
      "                        environment json file that stores environment path\n",
      "  -c CONFIG_FILE, --config-file CONFIG_FILE\n",
      "                        config json file that stores hyper-parameters\n",
      "  -g GPUS, --gpus GPUS  number of gpus per node\n"
     ]
    }
   ],
   "source": [
    "!nnqc-train-ae -h"
   ]
  },
  {
   "cell_type": "markdown",
   "id": "c869cce8",
   "metadata": {},
   "source": [
    "### Run the VAE-GAN training to learn a normative manifold of the segmentation data"
   ]
  },
  {
   "cell_type": "code",
   "execution_count": null,
   "metadata": {},
   "outputs": [],
   "source": [
    "!nnqc-train-ae -c config/config_train_32g.json -e config/environment.json"
   ]
  },
  {
   "cell_type": "markdown",
   "id": "e18df95c",
   "metadata": {},
   "source": [
    "### Run the Latent Diffusion Model with the Team of Expert module to learn the denoising process in latent space"
   ]
  },
  {
   "cell_type": "code",
   "execution_count": null,
   "metadata": {},
   "outputs": [],
   "source": [
    "!nnqc-train-diffusion -c config/config_train_32g.json -e config/environment.json"
   ]
  },
  {
   "cell_type": "markdown",
   "id": "8e67aa8a",
   "metadata": {},
   "source": [
    "### Time for testing out the model!"
   ]
  },
  {
   "cell_type": "code",
   "execution_count": null,
   "id": "57b3be5b",
   "metadata": {},
   "outputs": [],
   "source": [
    "!nnqc-evaluate -c config/config_train_32g.json -e config/environment.json"
   ]
  },
  {
   "cell_type": "markdown",
   "id": "8bd82d5a",
   "metadata": {},
   "source": [
    "### ... and that's it! You can now use the trained model to generate new samples or to evaluate the quality of existing samples.\n"
   ]
  },
  {
   "cell_type": "markdown",
   "id": "9f46c4f5",
   "metadata": {},
   "source": [
    "Remember to cite the paper if you use nnQC in your work!\n",
    "\n",
    "Also note that our code is open source and we are happy to receive feedback and contributions. If you find any bugs or have suggestions for improvements, please open an issue on our GitHub repository. Moreover, we'd like to state that our code is intensively based on MONAI, so please also cite their work if you use our code."
   ]
  }
 ],
 "metadata": {
  "kernelspec": {
   "display_name": ".venv",
   "language": "python",
   "name": "python3"
  },
  "language_info": {
   "codemirror_mode": {
    "name": "ipython",
    "version": 3
   },
   "file_extension": ".py",
   "mimetype": "text/x-python",
   "name": "python",
   "nbconvert_exporter": "python",
   "pygments_lexer": "ipython3",
   "version": "3.10.16"
  }
 },
 "nbformat": 4,
 "nbformat_minor": 5
}
